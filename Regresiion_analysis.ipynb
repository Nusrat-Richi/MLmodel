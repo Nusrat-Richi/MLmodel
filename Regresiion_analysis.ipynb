{
  "nbformat": 4,
  "nbformat_minor": 0,
  "metadata": {
    "colab": {
      "provenance": [],
      "include_colab_link": true
    },
    "kernelspec": {
      "name": "python3",
      "display_name": "Python 3"
    },
    "language_info": {
      "name": "python"
    }
  },
  "cells": [
    {
      "cell_type": "markdown",
      "metadata": {
        "id": "view-in-github",
        "colab_type": "text"
      },
      "source": [
        "<a href=\"https://colab.research.google.com/github/Nusrat-Richi/MLmodel/blob/main/Regresiion_analysis.ipynb\" target=\"_parent\"><img src=\"https://colab.research.google.com/assets/colab-badge.svg\" alt=\"Open In Colab\"/></a>"
      ]
    },
    {
      "cell_type": "code",
      "execution_count": null,
      "metadata": {
        "colab": {
          "base_uri": "https://localhost:8080/"
        },
        "id": "HinSdraSieSV",
        "outputId": "0b45fcc7-36cd-4909-a48d-55603f38dab2"
      },
      "outputs": [
        {
          "output_type": "stream",
          "name": "stdout",
          "text": [
            "Regression equation: y = -0.15x + 20.86\n"
          ]
        }
      ],
      "source": [
        "import numpy as np\n",
        "\n",
        "x = np.array([1, 2, 3, 4, 5, 6])\n",
        "y = np.array([0.02861580071,0.2734527475,32.68888889,0.7564467111,0.6930582983,37.44628889,11.04366667,10.65428889])\n",
        "\n",
        "m, c = np.polyfit(x, y, 1)\n",
        "\n",
        "print(f\"Regression equation: y = {m:.2f}x + {c:.2f}\")\n",
        "\n",
        "import io\n",
        "import pandas as pd\n",
        "pd.read_csv(io.StringIO('''\n",
        "0.02861580071,0.2734527475,32.68888889,0.7564467111,0.6930582983,37.44628889,11.04366667,10.65428889\n",
        "'''), header=None)\n"
      ]
    },
    {
      "cell_type": "code",
      "source": [
        "import numpy as np\n",
        "\n",
        "# Actual data\n",
        "x = np.array([1, 2, 3, 4, 5, 6])  # Index for models\n",
        "y_actual = np.array([2.86, 27.35, 32.69, 37.45, 11.04, 10.65])  # Grade levels\n",
        "\n",
        "# Regression coefficients from earlier\n",
        "m = -0.15\n",
        "c = 20.86\n",
        "\n",
        "# Predicted y values from regression equation\n",
        "y_pred = m * x + c\n",
        "\n",
        "# Mean of actual y values\n",
        "y_mean = np.mean(y_actual)\n",
        "\n",
        "# Calculate SS_total\n",
        "ss_total = np.sum((y_actual - y_mean) ** 2)\n",
        "\n",
        "# Calculate SS_residual\n",
        "ss_residual = np.sum((y_actual - y_pred) ** 2)\n",
        "\n",
        "# Calculate R-squared(Coefficient of Determination)\n",
        "r_squared = 1 - (ss_residual / ss_total)\n",
        "\n",
        "# Print step-by-step values\n",
        "print(\"Predicted Y:\", y_pred)\n",
        "print(\"Mean Y:\", y_mean)\n",
        "print(\"SS_total:\", ss_total)\n",
        "print(\"SS_residual:\", ss_residual)\n",
        "print(\"R-squared:\", r_squared)\n"
      ],
      "metadata": {
        "colab": {
          "base_uri": "https://localhost:8080/"
        },
        "id": "KX2cxotLi8W4",
        "outputId": "00198a8f-cb6a-4614-c743-ec0704c55cc4"
      },
      "execution_count": null,
      "outputs": [
        {
          "output_type": "stream",
          "name": "stdout",
          "text": [
            "Predicted Y: [20.71 20.56 20.41 20.26 20.11 19.96]\n",
            "Mean Y: 20.34\n",
            "SS_total: 980.3512000000001\n",
            "SS_residual: 979.9621000000002\n",
            "R-squared: 0.0003968985808350256\n"
          ]
        }
      ]
    }
  ]
}