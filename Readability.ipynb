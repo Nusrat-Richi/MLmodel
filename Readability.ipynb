{
  "nbformat": 4,
  "nbformat_minor": 0,
  "metadata": {
    "colab": {
      "provenance": [],
      "authorship_tag": "ABX9TyNVrl5n+WT4KVG0nJcdU1lG",
      "include_colab_link": true
    },
    "kernelspec": {
      "name": "python3",
      "display_name": "Python 3"
    },
    "language_info": {
      "name": "python"
    }
  },
  "cells": [
    {
      "cell_type": "markdown",
      "metadata": {
        "id": "view-in-github",
        "colab_type": "text"
      },
      "source": [
        "<a href=\"https://colab.research.google.com/github/Nusrat-Richi/MLmodel/blob/main/Readability.ipynb\" target=\"_parent\"><img src=\"https://colab.research.google.com/assets/colab-badge.svg\" alt=\"Open In Colab\"/></a>"
      ]
    },
    {
      "cell_type": "code",
      "execution_count": null,
      "metadata": {
        "colab": {
          "base_uri": "https://localhost:8080/"
        },
        "id": "uOePpkkzi_Z2",
        "outputId": "a9aec021-5e61-42eb-8329-350fa8713d81",
        "collapsed": true
      },
      "outputs": [
        {
          "output_type": "stream",
          "name": "stdout",
          "text": [
            "Collecting textstat\n",
            "  Downloading textstat-0.7.7-py3-none-any.whl.metadata (15 kB)\n",
            "Collecting pyphen (from textstat)\n",
            "  Downloading pyphen-0.17.2-py3-none-any.whl.metadata (3.2 kB)\n",
            "Collecting cmudict (from textstat)\n",
            "  Downloading cmudict-1.0.32-py3-none-any.whl.metadata (3.6 kB)\n",
            "Requirement already satisfied: setuptools in /usr/local/lib/python3.11/dist-packages (from textstat) (75.2.0)\n",
            "Requirement already satisfied: importlib-metadata>=5 in /usr/local/lib/python3.11/dist-packages (from cmudict->textstat) (8.7.0)\n",
            "Requirement already satisfied: importlib-resources>=5 in /usr/local/lib/python3.11/dist-packages (from cmudict->textstat) (6.5.2)\n",
            "Requirement already satisfied: zipp>=3.20 in /usr/local/lib/python3.11/dist-packages (from importlib-metadata>=5->cmudict->textstat) (3.21.0)\n",
            "Downloading textstat-0.7.7-py3-none-any.whl (175 kB)\n",
            "\u001b[2K   \u001b[90m━━━━━━━━━━━━━━━━━━━━━━━━━━━━━━━━━━━━━━━━\u001b[0m \u001b[32m175.3/175.3 kB\u001b[0m \u001b[31m4.1 MB/s\u001b[0m eta \u001b[36m0:00:00\u001b[0m\n",
            "\u001b[?25hDownloading cmudict-1.0.32-py3-none-any.whl (939 kB)\n",
            "\u001b[2K   \u001b[90m━━━━━━━━━━━━━━━━━━━━━━━━━━━━━━━━━━━━━━━━\u001b[0m \u001b[32m939.4/939.4 kB\u001b[0m \u001b[31m21.4 MB/s\u001b[0m eta \u001b[36m0:00:00\u001b[0m\n",
            "\u001b[?25hDownloading pyphen-0.17.2-py3-none-any.whl (2.1 MB)\n",
            "\u001b[2K   \u001b[90m━━━━━━━━━━━━━━━━━━━━━━━━━━━━━━━━━━━━━━━━\u001b[0m \u001b[32m2.1/2.1 MB\u001b[0m \u001b[31m45.1 MB/s\u001b[0m eta \u001b[36m0:00:00\u001b[0m\n",
            "\u001b[?25hInstalling collected packages: pyphen, cmudict, textstat\n",
            "Successfully installed cmudict-1.0.32 pyphen-0.17.2 textstat-0.7.7\n"
          ]
        }
      ],
      "source": [
        "pip install textstat\n"
      ]
    },
    {
      "cell_type": "code",
      "source": [
        "import textstat\n",
        "\n",
        "# Your text\n",
        "text = \"\"\" 1. Introduction to Cells\n",
        "Cell Theory:\n",
        "All living organisms are composed of one or more cells.\n",
        "The cell is the basic unit of structure and function in living organisms.\n",
        "All cells arise from pre-existing cells.\n",
        "Historical Context:\n",
        "Contributions of scientists like Robert Hooke (discovered cells in cork, 1665), Antonie van Leeuwenhoek (observed microorganisms), and Theodor Schwann/Matthias Schleiden (formulated cell theory).\n",
        "Importance:\n",
        "Cells are the building blocks of life, responsible for growth, repair, and maintenance in organisms.\n",
        "2. Types of Cells\n",
        "Prokaryotic Cells:\n",
        "Simple, smaller cells lacking a nucleus and membrane-bound organelles.\n",
        "Examples: Bacteria, blue-green algae (cyanobacteria).\n",
        "Features: DNA in a nucleoid region, cell wall, ribosomes, and sometimes flagella.\n",
        "Eukaryotic Cells:\n",
        "Complex cells with a nucleus and membrane-bound organelles.\n",
        "Examples: Plant, animal, fungal, and protist cells.\n",
        "Subtypes:\n",
        "Plant Cells: Have cell walls (cellulose), chloroplasts (for photosynthesis), and large central vacuoles.\n",
        "Animal Cells: Lack cell walls and chloroplasts, have centrioles (for cell division).\n",
        "Unicellular vs. Multicellular Organisms:\n",
        "Unicellular: Single-celled organisms (e.g., amoeba, paramecium).\n",
        "Multicellular: Organisms with specialized cells (e.g., humans, plants).\n",
        "3. Cell Structure and Organelles\n",
        "Cell Membrane:\n",
        "Semi-permeable barrier controlling the movement of substances in and out of the cell.\n",
        "Composed of a phospholipid bilayer with embedded proteins.\n",
        "Cytoplasm:\n",
        "Jelly-like substance where organelles are suspended and cellular reactions occur.\n",
        "Nucleus:\n",
        "Contains DNA, controlling cell activities and heredity.\n",
        "Surrounded by a nuclear membrane with pores for molecule exchange.\n",
        "Mitochondria:\n",
        "Powerhouses of the cell, producing energy (ATP) through cellular respiration.\n",
        "Relevant to Chapter 1’s discussion of energy from carbohydrates and fats (Page 10-12).\n",
        "Endoplasmic Reticulum (ER):\n",
        "Rough ER: Studded with ribosomes, synthesizes proteins.\n",
        "Smooth ER: Synthesizes lipids and detoxifies substances.\n",
        "Ribosomes:\n",
        "Sites of protein synthesis, found free in cytoplasm or attached to rough ER.\n",
        "Golgi Apparatus:\n",
        "Modifies, packages, and transports proteins and lipids.\n",
        "Lysosomes:\n",
        "Contain enzymes to break down waste and damaged organelles (animal cells).\n",
        "Vacuoles:\n",
        "Storage for nutrients, waste, or water; large in plant cells.\n",
        "Chloroplasts (Plant Cells):\n",
        "Site of photosynthesis, converting sunlight into glucose using chlorophyll.\n",
        "Links to Chapter 4’s discussion of carbohydrates as energy sources (Page 10).\n",
        "Cell Wall (Plant Cells):\n",
        "Rigid structure providing support and protection.\n",
        "Centrioles (Animal Cells):\n",
        "Organize spindle fibers during cell division.\n",
        "4. Cellular Processes\n",
        "Cellular Respiration:\n",
        "Mitochondria convert glucose and oxygen into ATP, carbon dioxide, and water.\n",
        "Links to Chapter 3’s discussion of oxygen transport by blood (Page 60-88).\n",
        "Photosynthesis (Plant Cells):\n",
        "Chloroplasts use sunlight, carbon dioxide, and water to produce glucose and oxygen.\n",
        "Formula: 6CO₂ + 6H₂O + light → C₆H₁₂O₆ + 6O₂.\n",
        "Cell Division:\n",
        "Mitosis: Produces two identical daughter cells for growth and repair.\n",
        "Stages: Prophase, Metaphase, Anaphase, Telophase, Cytokinesis.\n",
        "Meiosis (likely introductory): Produces gametes (sperm/egg) for reproduction.\n",
        "Diffusion and Osmosis:\n",
        "Movement of molecules (e.g., nutrients, water) across the cell membrane.\n",
        "Osmosis links to Chapter 2’s discussion of water’s role in cells (Page 18-19).\n",
        "5. Cells in Human Health and Disease\n",
        "Role in Health:\n",
        "Cells perform specialized functions (e.g., red blood cells carry oxygen, nerve cells transmit signals).\n",
        "Proper nutrition (Chapter 4, Pages 89-115) supports cell function (e.g., iron for hemoglobin, proteins for tissue repair).\n",
        "Cell-Related Diseases:\n",
        "Cancer: Uncontrolled cell division due to genetic mutations.\n",
        "Infections: Pathogens (e.g., bacteria, viruses) invade or damage cells.\n",
        "Nutrient Deficiencies: Affect cell function (e.g., anemia from iron deficiency, Page 17).\n",
        "Prevention:\n",
        "Balanced diet, hygiene, and avoiding harmful substances (e.g., tobacco, Page 29-30).\n",
        "6. Practical Applications\n",
        "Microscopy (Preface, Page 4):\n",
        "Use of microscopes to observe cells (e.g., onion epidermal cells, cheek cells).\n",
        "Activity: Prepare slides, identify organelles like the nucleus or cell wall.\n",
        "Cell Models:\n",
        "Create 3D models of plant or animal cells using craft materials.\n",
        "Diet and Cells:\n",
        "Analyze how nutrients (e.g., proteins, vitamins) support cell growth and repair, linking to Chapter 4 (Page 89-115).\n",
        "Local Context:\n",
        "Discuss cells in agriculture (e.g., plant cells in rice crops) or health (e.g., blood cells in anemia prevalent in Bangladesh).\n",
        "7. Societal and Environmental Relevance\n",
        "Cells in Ecosystems:\n",
        "Plant cells (photosynthesis) produce oxygen and food, supporting life.\n",
        "Microbial cells (e.g., bacteria) decompose waste or cause diseases.\n",
        "Biotechnology:\n",
        "Basic introduction to cell-based technologies (e.g., tissue culture in agriculture).\n",
        "Health Awareness:\n",
        "Understanding cell function promotes healthy habits (e.g., balanced diet, avoiding toxins).\n",
        "Key Takeaways\n",
        "Cells as Life’s Units: Cells are the basic structural and functional units of all living organisms.\n",
        "Diversity of Cells: Prokaryotic and eukaryotic cells differ in complexity; plant and animal cells have specialized features.\n",
        "Organelle Functions: Each organelle (e.g., nucleus, mitochondria) has specific roles in cell survival.\n",
        "Cellular Processes: Respiration, photosynthesis, and division sustain life and growth.\n",
        "Health Connection: Proper nutrition and lifestyle support cell function, preventing diseases.\n",
        "\"\"\"\n",
        "# Calculate readability scores\n",
        "flesch_reading_ease = textstat.flesch_reading_ease(text)\n",
        "fk_grade_level = textstat.flesch_kincaid_grade(text)\n",
        "gunning_fog = textstat.gunning_fog(text)\n",
        "\n",
        "# Print results\n",
        "print(f\"Flesch Reading Ease: {flesch_reading_ease}\")\n",
        "print(f\"Flesch-Kincaid Grade Level: {fk_grade_level}\")\n",
        "print(f\"Gunning Fog Index: {gunning_fog}\")\n"
      ],
      "metadata": {
        "colab": {
          "base_uri": "https://localhost:8080/"
        },
        "id": "qzXWLgkbjl9s",
        "outputId": "37934b42-de0d-4662-b366-1708f8dcb08f"
      },
      "execution_count": null,
      "outputs": [
        {
          "output_type": "stream",
          "name": "stdout",
          "text": [
            "Flesch Reading Ease: 32.185814892073296\n",
            "Flesch-Kincaid Grade Level: 11.271116452022493\n",
            "Gunning Fog Index: 15.570651188100852\n"
          ]
        }
      ]
    }
  ]
}